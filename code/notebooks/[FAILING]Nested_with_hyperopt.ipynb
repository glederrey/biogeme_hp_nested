{
 "cells": [
  {
   "cell_type": "code",
   "execution_count": 1,
   "metadata": {},
   "outputs": [],
   "source": [
    "import os\n",
    "os.chdir('..')"
   ]
  },
  {
   "cell_type": "code",
   "execution_count": 2,
   "metadata": {},
   "outputs": [],
   "source": [
    "import time\n",
    "import json\n",
    "import os\n",
    "import pickle\n",
    "import copy\n",
    "import numpy as np\n",
    "import pandas as pd\n",
    "import biogeme.database as db\n",
    "import biogeme.biogeme as bio\n",
    "\n",
    "from hyperopt import fmin, tpe, hp, STATUS_OK, Trials, STATUS_FAIL\n",
    "\n",
    "from algos import SBFGSABS\n",
    "from algos import BFGS\n",
    "\n",
    "from models import Nested\n",
    "from models import MNL\n",
    "\n",
    "data_folder = '../data/'\n",
    "figures_folder = '../figures/'\n",
    "\n",
    "# For the Python notebook\n",
    "%matplotlib inline\n",
    "%reload_ext autoreload\n",
    "%autoreload 2"
   ]
  },
  {
   "cell_type": "markdown",
   "metadata": {},
   "source": [
    "## Preparing\n",
    "\n",
    "First, we define the space of hyper-parameters optimization and we optimize the model with the non-stochastic algorithm."
   ]
  },
  {
   "cell_type": "code",
   "execution_count": 3,
   "metadata": {},
   "outputs": [
    {
     "name": "stdout",
     "output_type": "stream",
     "text": [
      "Number of epochs for non-stocha: 15\n"
     ]
    }
   ],
   "source": [
    "space = {'window': hp.quniform('window', 1, 30, 1),\n",
    "         'count_upd': hp.quniform('count_upd', 1, 20, 1),\n",
    "         'factor_upd': hp.quniform('factor_upd', 1, 10, 0.1),\n",
    "         'thresh_upd': hp.quniform('thresh_upd', 0, 10, 0.1)}\n",
    "\n",
    "model = Nested(data_folder)\n",
    "\n",
    "base_res = model.optimize(BFGS, **{'verbose': False, 'nbr_epochs': 50, 'thresh': 1e-6})\n",
    "\n",
    "print(\"Number of epochs for non-stocha: {}\".format(base_res.nep))"
   ]
  },
  {
   "cell_type": "markdown",
   "metadata": {},
   "source": [
    "## Objective function\n",
    "\n",
    "We define the objective function required for hyperopt."
   ]
  },
  {
   "cell_type": "code",
   "execution_count": 7,
   "metadata": {},
   "outputs": [],
   "source": [
    "def objective(model, algo, params, base_val, data_folder):\n",
    "    win = params['window']\n",
    "    cnt_upd = params['count_upd']\n",
    "    fct_upd = params['factor_upd']\n",
    "    thrsh_upd = params['thresh_upd']\n",
    "    \n",
    "    epochs = []\n",
    "    fval = []\n",
    "    for i in range(5):\n",
    "        model = Nested(data_folder)\n",
    "        \n",
    "        res = model.optimize(algo,\n",
    "                             **{'verbose': False, 'batch': 100, 'nbr_epochs': 50, 'thresh': 1e-6,\n",
    "                                'thresh_upd': thrsh_upd,\n",
    "                                'factor_upd': fct_upd, 'count_upd': cnt_upd, 'window': win})\n",
    "        epochs.append(res.nep)\n",
    "        fval.append(res.fun)\n",
    "\n",
    "    if np.abs(np.mean(fval) - base_val) < 1e-5:\n",
    "        status = STATUS_OK\n",
    "    else:\n",
    "        status = STATUS_FAIL\n",
    "\n",
    "    return {'loss': np.max(epochs), 'value': np.mean(fval), 'status': status, 'epochs': epochs}\n"
   ]
  },
  {
   "cell_type": "markdown",
   "metadata": {},
   "source": [
    "## Hyperopt\n",
    "\n",
    "We use hyperopt to find the best hyperparameters for the ABS algorithm."
   ]
  },
  {
   "cell_type": "code",
   "execution_count": null,
   "metadata": {
    "scrolled": false
   },
   "outputs": [
    {
     "name": "stderr",
     "output_type": "stream",
     "text": [
      "01-04-2019:16:48:43,281 INFO     [tpe.py:837] tpe_transform took 0.001128 seconds\n",
      "01-04-2019:16:48:43,282 INFO     [tpe.py:867] TPE using 0 trials\n",
      "01-04-2019:16:49:49,832 INFO     [tpe.py:837] tpe_transform took 0.001172 seconds\n",
      "01-04-2019:16:49:49,833 INFO     [tpe.py:865] TPE using 1/1 trials with best loss 13.447991\n",
      "01-04-2019:16:50:44,71 INFO     [tpe.py:837] tpe_transform took 0.004886 seconds\n",
      "01-04-2019:16:50:44,72 INFO     [tpe.py:865] TPE using 2/2 trials with best loss 13.447991\n",
      "01-04-2019:16:52:08,192 INFO     [tpe.py:837] tpe_transform took 0.002336 seconds\n",
      "01-04-2019:16:52:08,194 INFO     [tpe.py:865] TPE using 3/3 trials with best loss 13.447991\n",
      "01-04-2019:16:54:10,702 INFO     [tpe.py:837] tpe_transform took 0.001435 seconds\n",
      "01-04-2019:16:54:10,702 INFO     [tpe.py:865] TPE using 4/4 trials with best loss 13.447991\n",
      "01-04-2019:16:55:08,730 INFO     [tpe.py:837] tpe_transform took 0.001241 seconds\n",
      "01-04-2019:16:55:08,730 INFO     [tpe.py:865] TPE using 5/5 trials with best loss 13.447991\n",
      "01-04-2019:16:56:45,727 INFO     [tpe.py:837] tpe_transform took 0.001254 seconds\n",
      "01-04-2019:16:56:45,728 INFO     [tpe.py:865] TPE using 6/6 trials with best loss 13.447991\n",
      "01-04-2019:16:57:56,189 INFO     [tpe.py:837] tpe_transform took 0.001154 seconds\n",
      "01-04-2019:16:57:56,190 INFO     [tpe.py:865] TPE using 7/7 trials with best loss 13.447991\n",
      "01-04-2019:16:58:50,144 INFO     [tpe.py:837] tpe_transform took 0.001360 seconds\n",
      "01-04-2019:16:58:50,145 INFO     [tpe.py:865] TPE using 8/8 trials with best loss 13.447991\n",
      "/home/gael/Documents/EPFL/PhD/Biogeme/biogeme_hp_nested/code/algos/SBFGSABS.py:215: RuntimeWarning: divide by zero encountered in double_scalars\n",
      "  rhok = 1.0 / (np.dot(yk, sk))\n"
     ]
    }
   ],
   "source": [
    "trials = Trials()\n",
    "best = fmin(fn=lambda x: objective(model, SBFGSABS, x, base_res.fun, data_folder),\n",
    "            space=space,\n",
    "            algo=tpe.suggest,\n",
    "            max_evals=100,\n",
    "            trials=trials)"
   ]
  },
  {
   "cell_type": "markdown",
   "metadata": {},
   "source": [
    "## After the optimization failed\n",
    "\n",
    "We reload the model and try to run it again. "
   ]
  },
  {
   "cell_type": "code",
   "execution_count": null,
   "metadata": {},
   "outputs": [],
   "source": [
    "model = Nested(data_folder)\n",
    "\n",
    "base_res = model.optimize(BFGS, **{'verbose': False, 'nbr_epochs': 50, 'thresh': 1e-6})"
   ]
  }
 ],
 "metadata": {
  "kernelspec": {
   "display_name": "Python 3",
   "language": "python",
   "name": "python3"
  },
  "language_info": {
   "codemirror_mode": {
    "name": "ipython",
    "version": 3
   },
   "file_extension": ".py",
   "mimetype": "text/x-python",
   "name": "python",
   "nbconvert_exporter": "python",
   "pygments_lexer": "ipython3",
   "version": "3.6.3"
  }
 },
 "nbformat": 4,
 "nbformat_minor": 2
}
