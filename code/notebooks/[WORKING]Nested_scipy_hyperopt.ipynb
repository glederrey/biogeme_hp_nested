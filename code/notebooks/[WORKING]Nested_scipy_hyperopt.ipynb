{
 "cells": [
  {
   "cell_type": "code",
   "execution_count": 1,
   "metadata": {},
   "outputs": [],
   "source": [
    "import os\n",
    "os.chdir('..')"
   ]
  },
  {
   "cell_type": "code",
   "execution_count": 20,
   "metadata": {},
   "outputs": [],
   "source": [
    "import time\n",
    "import json\n",
    "import os\n",
    "import pickle\n",
    "import copy\n",
    "import numpy as np\n",
    "import pandas as pd\n",
    "import biogeme.database as db\n",
    "import biogeme.biogeme as bio\n",
    "\n",
    "from hyperopt import fmin, tpe, hp, STATUS_OK, Trials, STATUS_FAIL\n",
    "\n",
    "from algos import SBFGSABS\n",
    "from algos import BFGS\n",
    "\n",
    "from models import Nested\n",
    "from models import MNL\n",
    "\n",
    "import scipy.optimize as sco\n",
    "\n",
    "data_folder = '../data/'\n",
    "figures_folder = '../figures/'\n",
    "\n",
    "# For the Python notebook\n",
    "%matplotlib inline\n",
    "%reload_ext autoreload\n",
    "%autoreload 2"
   ]
  },
  {
   "cell_type": "markdown",
   "metadata": {},
   "source": [
    "## Preparation\n",
    "\n",
    "First, we make sure that everything works. "
   ]
  },
  {
   "cell_type": "code",
   "execution_count": 3,
   "metadata": {},
   "outputs": [],
   "source": [
    "model = Nested(data_folder)"
   ]
  },
  {
   "cell_type": "code",
   "execution_count": 4,
   "metadata": {},
   "outputs": [],
   "source": [
    "base_res = model.optimize(BFGS, **{'verbose': False, 'nbr_epochs': 50, 'thresh': 1e-6})"
   ]
  },
  {
   "cell_type": "code",
   "execution_count": 9,
   "metadata": {},
   "outputs": [
    {
     "data": {
      "text/plain": [
       "       fun: -5236.900013578789\n",
       "      hess: array([[ 1.40370991e-03,  1.25413008e-03,  7.76423295e-05,\n",
       "        -1.28628412e-03, -1.02565649e-03],\n",
       "       [ 1.25413008e-03,  2.12454700e-03,  3.73311804e-04,\n",
       "        -1.26586512e-03,  7.81086078e-04],\n",
       "       [ 7.76423295e-05,  3.73311804e-04,  2.19325510e-03,\n",
       "         1.00240644e-03,  2.53225307e-03],\n",
       "       [-1.28628412e-03, -1.26586512e-03,  1.00240644e-03,\n",
       "         3.21335967e-03,  3.82563033e-03],\n",
       "       [-1.02565649e-03,  7.81086078e-04,  2.53225307e-03,\n",
       "         3.82563033e-03,  1.35905116e-02]])\n",
       "       jac: array([ 4.36893862e-05, -1.52436359e-05, -2.76837658e-06,  1.16726683e-05,\n",
       "        7.74149458e-06])\n",
       "       nep: 15\n",
       "       nit: 15\n",
       " opti_time: 7.657468\n",
       "    status: 'Optimum reached!'\n",
       "   success: True\n",
       "         x: array([-0.16715561, -0.51194801, -0.85666526, -0.89866378,  2.05406558])"
      ]
     },
     "execution_count": 9,
     "metadata": {},
     "output_type": "execute_result"
    }
   ],
   "source": [
    "base_res"
   ]
  },
  {
   "cell_type": "code",
   "execution_count": 10,
   "metadata": {},
   "outputs": [],
   "source": [
    "fprime = lambda x: -model.biogeme.calculateLikelihoodAndDerivatives(x, hessian=False)[1]\n",
    "f = lambda x: -model.biogeme.calculateLikelihood(x)"
   ]
  },
  {
   "cell_type": "code",
   "execution_count": 17,
   "metadata": {},
   "outputs": [
    {
     "data": {
      "text/plain": [
       "      fun: 5236.90001366234\n",
       " hess_inv: <5x5 LbfgsInvHessProduct with dtype=float64>\n",
       "      jac: array([ 0.00142948, -0.01411452,  0.00409671, -0.00873904,  0.00266863])\n",
       "  message: b'CONVERGENCE: REL_REDUCTION_OF_F_<=_FACTR*EPSMCH'\n",
       "     nfev: 17\n",
       "      nit: 15\n",
       "   status: 0\n",
       "  success: True\n",
       "        x: array([-0.1671623 , -0.51196111, -0.85666346, -0.89866183,  2.05406615])"
      ]
     },
     "execution_count": 17,
     "metadata": {},
     "output_type": "execute_result"
    }
   ],
   "source": [
    "res = sco.minimize(f, model.x0, jac=fprime, bounds=model.bounds)\n",
    "res"
   ]
  },
  {
   "cell_type": "markdown",
   "metadata": {},
   "source": [
    "Define the space"
   ]
  },
  {
   "cell_type": "code",
   "execution_count": 15,
   "metadata": {},
   "outputs": [],
   "source": [
    "space = {'ftol': hp.quniform('window', 1e-6, 1e-5, 1e-7),\n",
    "         'eps': hp.quniform('count_upd', 1e-8, 1e-7, 1e-9),\n",
    "         'maxiter': hp.quniform('factor_upd', 10, 30, 1)}"
   ]
  },
  {
   "cell_type": "markdown",
   "metadata": {},
   "source": [
    "## Objective function\n",
    "\n",
    "We define the objective function required for hyperopt."
   ]
  },
  {
   "cell_type": "code",
   "execution_count": 31,
   "metadata": {},
   "outputs": [],
   "source": [
    "def objective(model, params, base_val, data_folder):\n",
    "    ftol = params['ftol']\n",
    "    eps = params['eps']\n",
    "    maxiter = params['maxiter']\n",
    "    \n",
    "    epochs = []\n",
    "    fval = []\n",
    "    for i in range(5):\n",
    "        model = Nested(data_folder)\n",
    "        \n",
    "        fprime = lambda x: -model.biogeme.calculateLikelihoodAndDerivatives(x, hessian=False)[1]\n",
    "        f = lambda x: -model.biogeme.calculateLikelihood(x)\n",
    "        \n",
    "        res = sco.minimize(f, model.x0, jac=fprime, bounds=model.bounds, options={'ftol': ftol, 'eps': eps, 'maxiter': maxiter})\n",
    "\n",
    "        epochs.append(res.nit)\n",
    "        fval.append(res.fun)\n",
    "\n",
    "    if np.abs(np.mean(fval) - base_val) < 1e-5:\n",
    "        status = STATUS_OK\n",
    "    else:\n",
    "        status = STATUS_FAIL\n",
    "\n",
    "    return {'loss': np.max(epochs), 'value': np.mean(fval), 'status': status, 'epochs': epochs}\n"
   ]
  },
  {
   "cell_type": "code",
   "execution_count": null,
   "metadata": {},
   "outputs": [
    {
     "name": "stderr",
     "output_type": "stream",
     "text": [
      "01-04-2019:17:28:17,640 INFO     [tpe.py:837] tpe_transform took 0.000912 seconds\n",
      "01-04-2019:17:28:17,640 INFO     [tpe.py:867] TPE using 0 trials\n",
      "01-04-2019:17:28:34,515 INFO     [tpe.py:837] tpe_transform took 0.000893 seconds\n",
      "01-04-2019:17:28:34,516 INFO     [tpe.py:865] TPE using 1/1 trials with best loss 12.000000\n",
      "01-04-2019:17:28:54,695 INFO     [tpe.py:837] tpe_transform took 0.001539 seconds\n",
      "01-04-2019:17:28:54,696 INFO     [tpe.py:865] TPE using 2/2 trials with best loss 12.000000\n",
      "01-04-2019:17:29:16,103 INFO     [tpe.py:837] tpe_transform took 0.001282 seconds\n",
      "01-04-2019:17:29:16,103 INFO     [tpe.py:865] TPE using 3/3 trials with best loss 12.000000\n",
      "01-04-2019:17:29:36,841 INFO     [tpe.py:837] tpe_transform took 0.000957 seconds\n",
      "01-04-2019:17:29:36,842 INFO     [tpe.py:865] TPE using 4/4 trials with best loss 12.000000\n",
      "01-04-2019:17:29:57,56 INFO     [tpe.py:837] tpe_transform took 0.001101 seconds\n",
      "01-04-2019:17:29:57,57 INFO     [tpe.py:865] TPE using 5/5 trials with best loss 12.000000\n",
      "01-04-2019:17:30:20,752 INFO     [tpe.py:837] tpe_transform took 0.001909 seconds\n",
      "01-04-2019:17:30:20,754 INFO     [tpe.py:865] TPE using 6/6 trials with best loss 12.000000\n",
      "01-04-2019:17:30:52,702 INFO     [tpe.py:837] tpe_transform took 0.001782 seconds\n",
      "01-04-2019:17:30:52,703 INFO     [tpe.py:865] TPE using 7/7 trials with best loss 12.000000\n",
      "01-04-2019:17:31:18,914 INFO     [tpe.py:837] tpe_transform took 0.001512 seconds\n",
      "01-04-2019:17:31:18,917 INFO     [tpe.py:865] TPE using 8/8 trials with best loss 12.000000\n",
      "01-04-2019:17:31:46,318 INFO     [tpe.py:837] tpe_transform took 0.000960 seconds\n",
      "01-04-2019:17:31:46,319 INFO     [tpe.py:865] TPE using 9/9 trials with best loss 12.000000\n",
      "01-04-2019:17:32:12,782 INFO     [tpe.py:837] tpe_transform took 0.001677 seconds\n",
      "01-04-2019:17:32:12,784 INFO     [tpe.py:865] TPE using 10/10 trials with best loss 12.000000\n",
      "01-04-2019:17:32:39,726 INFO     [tpe.py:837] tpe_transform took 0.001099 seconds\n",
      "01-04-2019:17:32:39,727 INFO     [tpe.py:865] TPE using 11/11 trials with best loss 12.000000\n",
      "01-04-2019:17:33:09,864 INFO     [tpe.py:837] tpe_transform took 0.002302 seconds\n",
      "01-04-2019:17:33:09,865 INFO     [tpe.py:865] TPE using 12/12 trials with best loss 12.000000\n",
      "01-04-2019:17:33:43,49 INFO     [tpe.py:837] tpe_transform took 0.001157 seconds\n",
      "01-04-2019:17:33:43,49 INFO     [tpe.py:865] TPE using 13/13 trials with best loss 12.000000\n",
      "01-04-2019:17:34:13,670 INFO     [tpe.py:837] tpe_transform took 0.001556 seconds\n",
      "01-04-2019:17:34:13,671 INFO     [tpe.py:865] TPE using 14/14 trials with best loss 12.000000\n",
      "01-04-2019:17:34:42,918 INFO     [tpe.py:837] tpe_transform took 0.001247 seconds\n",
      "01-04-2019:17:34:42,919 INFO     [tpe.py:865] TPE using 15/15 trials with best loss 12.000000\n",
      "01-04-2019:17:35:09,973 INFO     [tpe.py:837] tpe_transform took 0.001728 seconds\n",
      "01-04-2019:17:35:09,974 INFO     [tpe.py:865] TPE using 16/16 trials with best loss 12.000000\n",
      "01-04-2019:17:35:36,963 INFO     [tpe.py:837] tpe_transform took 0.001420 seconds\n",
      "01-04-2019:17:35:36,964 INFO     [tpe.py:865] TPE using 17/17 trials with best loss 10.000000\n",
      "01-04-2019:17:36:06,251 INFO     [tpe.py:837] tpe_transform took 0.001168 seconds\n",
      "01-04-2019:17:36:06,251 INFO     [tpe.py:865] TPE using 18/18 trials with best loss 10.000000\n",
      "01-04-2019:17:36:39,165 INFO     [tpe.py:837] tpe_transform took 0.001334 seconds\n",
      "01-04-2019:17:36:39,165 INFO     [tpe.py:865] TPE using 19/19 trials with best loss 10.000000\n",
      "01-04-2019:17:37:11,334 INFO     [tpe.py:837] tpe_transform took 0.001101 seconds\n",
      "01-04-2019:17:37:11,335 INFO     [tpe.py:865] TPE using 20/20 trials with best loss 10.000000\n",
      "01-04-2019:17:37:37,168 INFO     [tpe.py:837] tpe_transform took 0.001415 seconds\n",
      "01-04-2019:17:37:37,170 INFO     [tpe.py:865] TPE using 21/21 trials with best loss 10.000000\n",
      "01-04-2019:17:37:57,805 INFO     [tpe.py:837] tpe_transform took 0.001224 seconds\n",
      "01-04-2019:17:37:57,805 INFO     [tpe.py:865] TPE using 22/22 trials with best loss 10.000000\n",
      "01-04-2019:17:38:18,41 INFO     [tpe.py:837] tpe_transform took 0.000964 seconds\n",
      "01-04-2019:17:38:18,42 INFO     [tpe.py:865] TPE using 23/23 trials with best loss 10.000000\n",
      "01-04-2019:17:38:40,419 INFO     [tpe.py:837] tpe_transform took 0.001134 seconds\n",
      "01-04-2019:17:38:40,420 INFO     [tpe.py:865] TPE using 24/24 trials with best loss 10.000000\n",
      "01-04-2019:17:39:01,933 INFO     [tpe.py:837] tpe_transform took 0.001084 seconds\n",
      "01-04-2019:17:39:01,934 INFO     [tpe.py:865] TPE using 25/25 trials with best loss 10.000000\n",
      "01-04-2019:17:39:23,389 INFO     [tpe.py:837] tpe_transform took 0.001049 seconds\n",
      "01-04-2019:17:39:23,390 INFO     [tpe.py:865] TPE using 26/26 trials with best loss 10.000000\n",
      "01-04-2019:17:39:43,810 INFO     [tpe.py:837] tpe_transform took 0.001108 seconds\n",
      "01-04-2019:17:39:43,811 INFO     [tpe.py:865] TPE using 27/27 trials with best loss 10.000000\n",
      "01-04-2019:17:40:05,163 INFO     [tpe.py:837] tpe_transform took 0.001033 seconds\n",
      "01-04-2019:17:40:05,163 INFO     [tpe.py:865] TPE using 28/28 trials with best loss 10.000000\n",
      "01-04-2019:17:40:26,458 INFO     [tpe.py:837] tpe_transform took 0.001337 seconds\n",
      "01-04-2019:17:40:26,459 INFO     [tpe.py:865] TPE using 29/29 trials with best loss 10.000000\n",
      "01-04-2019:17:40:48,646 INFO     [tpe.py:837] tpe_transform took 0.001044 seconds\n",
      "01-04-2019:17:40:48,647 INFO     [tpe.py:865] TPE using 30/30 trials with best loss 10.000000\n",
      "01-04-2019:17:41:09,68 INFO     [tpe.py:837] tpe_transform took 0.001105 seconds\n",
      "01-04-2019:17:41:09,69 INFO     [tpe.py:865] TPE using 31/31 trials with best loss 10.000000\n",
      "01-04-2019:17:41:27,66 INFO     [tpe.py:837] tpe_transform took 0.001104 seconds\n",
      "01-04-2019:17:41:27,66 INFO     [tpe.py:865] TPE using 32/32 trials with best loss 10.000000\n",
      "01-04-2019:17:41:45,29 INFO     [tpe.py:837] tpe_transform took 0.001105 seconds\n",
      "01-04-2019:17:41:45,30 INFO     [tpe.py:865] TPE using 33/33 trials with best loss 10.000000\n",
      "01-04-2019:17:42:03,150 INFO     [tpe.py:837] tpe_transform took 0.001124 seconds\n",
      "01-04-2019:17:42:03,150 INFO     [tpe.py:865] TPE using 34/34 trials with best loss 10.000000\n",
      "01-04-2019:17:42:20,892 INFO     [tpe.py:837] tpe_transform took 0.001104 seconds\n",
      "01-04-2019:17:42:20,893 INFO     [tpe.py:865] TPE using 35/35 trials with best loss 10.000000\n",
      "01-04-2019:17:42:39,474 INFO     [tpe.py:837] tpe_transform took 0.001127 seconds\n",
      "01-04-2019:17:42:39,474 INFO     [tpe.py:865] TPE using 36/36 trials with best loss 10.000000\n",
      "01-04-2019:17:42:59,29 INFO     [tpe.py:837] tpe_transform took 0.001126 seconds\n",
      "01-04-2019:17:42:59,29 INFO     [tpe.py:865] TPE using 37/37 trials with best loss 10.000000\n",
      "01-04-2019:17:43:17,786 INFO     [tpe.py:837] tpe_transform took 0.001198 seconds\n",
      "01-04-2019:17:43:17,786 INFO     [tpe.py:865] TPE using 38/38 trials with best loss 10.000000\n",
      "01-04-2019:17:43:36,826 INFO     [tpe.py:837] tpe_transform took 0.000978 seconds\n",
      "01-04-2019:17:43:36,826 INFO     [tpe.py:865] TPE using 39/39 trials with best loss 10.000000\n",
      "01-04-2019:17:43:54,893 INFO     [tpe.py:837] tpe_transform took 0.001112 seconds\n",
      "01-04-2019:17:43:54,893 INFO     [tpe.py:865] TPE using 40/40 trials with best loss 10.000000\n",
      "01-04-2019:17:44:14,34 INFO     [tpe.py:837] tpe_transform took 0.000980 seconds\n",
      "01-04-2019:17:44:14,35 INFO     [tpe.py:865] TPE using 41/41 trials with best loss 10.000000\n",
      "01-04-2019:17:44:31,836 INFO     [tpe.py:837] tpe_transform took 0.000966 seconds\n",
      "01-04-2019:17:44:31,837 INFO     [tpe.py:865] TPE using 42/42 trials with best loss 10.000000\n",
      "01-04-2019:17:44:50,72 INFO     [tpe.py:837] tpe_transform took 0.001003 seconds\n",
      "01-04-2019:17:44:50,72 INFO     [tpe.py:865] TPE using 43/43 trials with best loss 10.000000\n",
      "01-04-2019:17:45:07,578 INFO     [tpe.py:837] tpe_transform took 0.000985 seconds\n",
      "01-04-2019:17:45:07,579 INFO     [tpe.py:865] TPE using 44/44 trials with best loss 10.000000\n",
      "01-04-2019:17:45:25,242 INFO     [tpe.py:837] tpe_transform took 0.000987 seconds\n",
      "01-04-2019:17:45:25,243 INFO     [tpe.py:865] TPE using 45/45 trials with best loss 10.000000\n",
      "01-04-2019:17:45:42,875 INFO     [tpe.py:837] tpe_transform took 0.001137 seconds\n",
      "01-04-2019:17:45:42,876 INFO     [tpe.py:865] TPE using 46/46 trials with best loss 10.000000\n"
     ]
    },
    {
     "name": "stderr",
     "output_type": "stream",
     "text": [
      "01-04-2019:17:46:00,256 INFO     [tpe.py:837] tpe_transform took 0.000988 seconds\n",
      "01-04-2019:17:46:00,256 INFO     [tpe.py:865] TPE using 47/47 trials with best loss 10.000000\n",
      "01-04-2019:17:46:17,735 INFO     [tpe.py:837] tpe_transform took 0.001003 seconds\n",
      "01-04-2019:17:46:17,736 INFO     [tpe.py:865] TPE using 48/48 trials with best loss 10.000000\n",
      "01-04-2019:17:46:34,864 INFO     [tpe.py:837] tpe_transform took 0.001294 seconds\n",
      "01-04-2019:17:46:34,864 INFO     [tpe.py:865] TPE using 49/49 trials with best loss 10.000000\n",
      "01-04-2019:17:46:52,236 INFO     [tpe.py:837] tpe_transform took 0.000955 seconds\n",
      "01-04-2019:17:46:52,237 INFO     [tpe.py:865] TPE using 50/50 trials with best loss 10.000000\n",
      "01-04-2019:17:47:09,696 INFO     [tpe.py:837] tpe_transform took 0.001005 seconds\n",
      "01-04-2019:17:47:09,697 INFO     [tpe.py:865] TPE using 51/51 trials with best loss 10.000000\n",
      "01-04-2019:17:47:26,347 INFO     [tpe.py:837] tpe_transform took 0.001090 seconds\n",
      "01-04-2019:17:47:26,348 INFO     [tpe.py:865] TPE using 52/52 trials with best loss 10.000000\n",
      "01-04-2019:17:47:46,11 INFO     [tpe.py:837] tpe_transform took 0.001023 seconds\n",
      "01-04-2019:17:47:46,12 INFO     [tpe.py:865] TPE using 53/53 trials with best loss 10.000000\n",
      "01-04-2019:17:48:03,751 INFO     [tpe.py:837] tpe_transform took 0.001132 seconds\n",
      "01-04-2019:17:48:03,752 INFO     [tpe.py:865] TPE using 54/54 trials with best loss 10.000000\n",
      "01-04-2019:17:48:22,0 INFO     [tpe.py:837] tpe_transform took 0.000989 seconds\n",
      "01-04-2019:17:48:22,1 INFO     [tpe.py:865] TPE using 55/55 trials with best loss 10.000000\n",
      "01-04-2019:17:48:40,306 INFO     [tpe.py:837] tpe_transform took 0.001011 seconds\n",
      "01-04-2019:17:48:40,307 INFO     [tpe.py:865] TPE using 56/56 trials with best loss 10.000000\n",
      "01-04-2019:17:48:57,413 INFO     [tpe.py:837] tpe_transform took 0.000987 seconds\n",
      "01-04-2019:17:48:57,414 INFO     [tpe.py:865] TPE using 57/57 trials with best loss 10.000000\n",
      "01-04-2019:17:49:15,50 INFO     [tpe.py:837] tpe_transform took 0.000991 seconds\n",
      "01-04-2019:17:49:15,51 INFO     [tpe.py:865] TPE using 58/58 trials with best loss 10.000000\n",
      "01-04-2019:17:49:33,152 INFO     [tpe.py:837] tpe_transform took 0.000980 seconds\n",
      "01-04-2019:17:49:33,153 INFO     [tpe.py:865] TPE using 59/59 trials with best loss 10.000000\n",
      "01-04-2019:17:49:50,38 INFO     [tpe.py:837] tpe_transform took 0.001116 seconds\n",
      "01-04-2019:17:49:50,39 INFO     [tpe.py:865] TPE using 60/60 trials with best loss 10.000000\n",
      "01-04-2019:17:50:07,493 INFO     [tpe.py:837] tpe_transform took 0.001110 seconds\n",
      "01-04-2019:17:50:07,494 INFO     [tpe.py:865] TPE using 61/61 trials with best loss 10.000000\n",
      "01-04-2019:17:50:25,939 INFO     [tpe.py:837] tpe_transform took 0.000999 seconds\n",
      "01-04-2019:17:50:25,940 INFO     [tpe.py:865] TPE using 62/62 trials with best loss 10.000000\n",
      "01-04-2019:17:50:43,627 INFO     [tpe.py:837] tpe_transform took 0.000992 seconds\n",
      "01-04-2019:17:50:43,628 INFO     [tpe.py:865] TPE using 63/63 trials with best loss 10.000000\n",
      "01-04-2019:17:51:00,507 INFO     [tpe.py:837] tpe_transform took 0.001009 seconds\n",
      "01-04-2019:17:51:00,508 INFO     [tpe.py:865] TPE using 64/64 trials with best loss 10.000000\n",
      "01-04-2019:17:51:18,455 INFO     [tpe.py:837] tpe_transform took 0.001127 seconds\n",
      "01-04-2019:17:51:18,455 INFO     [tpe.py:865] TPE using 65/65 trials with best loss 10.000000\n",
      "01-04-2019:17:51:35,833 INFO     [tpe.py:837] tpe_transform took 0.000950 seconds\n",
      "01-04-2019:17:51:35,834 INFO     [tpe.py:865] TPE using 66/66 trials with best loss 10.000000\n",
      "01-04-2019:17:51:52,731 INFO     [tpe.py:837] tpe_transform took 0.001003 seconds\n",
      "01-04-2019:17:51:52,732 INFO     [tpe.py:865] TPE using 67/67 trials with best loss 10.000000\n",
      "01-04-2019:17:52:11,620 INFO     [tpe.py:837] tpe_transform took 0.000985 seconds\n",
      "01-04-2019:17:52:11,620 INFO     [tpe.py:865] TPE using 68/68 trials with best loss 10.000000\n",
      "01-04-2019:17:52:29,107 INFO     [tpe.py:837] tpe_transform took 0.000995 seconds\n",
      "01-04-2019:17:52:29,108 INFO     [tpe.py:865] TPE using 69/69 trials with best loss 10.000000\n",
      "01-04-2019:17:52:46,891 INFO     [tpe.py:837] tpe_transform took 0.000991 seconds\n",
      "01-04-2019:17:52:46,892 INFO     [tpe.py:865] TPE using 70/70 trials with best loss 10.000000\n",
      "01-04-2019:17:53:04,305 INFO     [tpe.py:837] tpe_transform took 0.001102 seconds\n",
      "01-04-2019:17:53:04,305 INFO     [tpe.py:865] TPE using 71/71 trials with best loss 10.000000\n",
      "01-04-2019:17:53:21,675 INFO     [tpe.py:837] tpe_transform took 0.000998 seconds\n",
      "01-04-2019:17:53:21,676 INFO     [tpe.py:865] TPE using 72/72 trials with best loss 10.000000\n",
      "01-04-2019:17:53:38,528 INFO     [tpe.py:837] tpe_transform took 0.000999 seconds\n",
      "01-04-2019:17:53:38,529 INFO     [tpe.py:865] TPE using 73/73 trials with best loss 10.000000\n",
      "01-04-2019:17:53:56,641 INFO     [tpe.py:837] tpe_transform took 0.001098 seconds\n",
      "01-04-2019:17:53:56,642 INFO     [tpe.py:865] TPE using 74/74 trials with best loss 10.000000\n",
      "01-04-2019:17:54:14,572 INFO     [tpe.py:837] tpe_transform took 0.001084 seconds\n",
      "01-04-2019:17:54:14,572 INFO     [tpe.py:865] TPE using 75/75 trials with best loss 10.000000\n",
      "01-04-2019:17:54:32,21 INFO     [tpe.py:837] tpe_transform took 0.000911 seconds\n",
      "01-04-2019:17:54:32,22 INFO     [tpe.py:865] TPE using 76/76 trials with best loss 10.000000\n",
      "01-04-2019:17:54:50,537 INFO     [tpe.py:837] tpe_transform took 0.001065 seconds\n",
      "01-04-2019:17:54:50,537 INFO     [tpe.py:865] TPE using 77/77 trials with best loss 10.000000\n",
      "01-04-2019:17:55:08,797 INFO     [tpe.py:837] tpe_transform took 0.001108 seconds\n",
      "01-04-2019:17:55:08,798 INFO     [tpe.py:865] TPE using 78/78 trials with best loss 10.000000\n",
      "01-04-2019:17:55:26,215 INFO     [tpe.py:837] tpe_transform took 0.000951 seconds\n",
      "01-04-2019:17:55:26,216 INFO     [tpe.py:865] TPE using 79/79 trials with best loss 10.000000\n",
      "01-04-2019:17:55:44,16 INFO     [tpe.py:837] tpe_transform took 0.000938 seconds\n",
      "01-04-2019:17:55:44,17 INFO     [tpe.py:865] TPE using 80/80 trials with best loss 10.000000\n",
      "01-04-2019:17:56:01,266 INFO     [tpe.py:837] tpe_transform took 0.000941 seconds\n",
      "01-04-2019:17:56:01,267 INFO     [tpe.py:865] TPE using 81/81 trials with best loss 10.000000\n",
      "01-04-2019:17:56:18,748 INFO     [tpe.py:837] tpe_transform took 0.000941 seconds\n",
      "01-04-2019:17:56:18,748 INFO     [tpe.py:865] TPE using 82/82 trials with best loss 10.000000\n",
      "01-04-2019:17:56:36,764 INFO     [tpe.py:837] tpe_transform took 0.000911 seconds\n",
      "01-04-2019:17:56:36,764 INFO     [tpe.py:865] TPE using 83/83 trials with best loss 10.000000\n",
      "01-04-2019:17:56:54,213 INFO     [tpe.py:837] tpe_transform took 0.000899 seconds\n",
      "01-04-2019:17:56:54,213 INFO     [tpe.py:865] TPE using 84/84 trials with best loss 10.000000\n",
      "01-04-2019:17:57:11,892 INFO     [tpe.py:837] tpe_transform took 0.000927 seconds\n",
      "01-04-2019:17:57:11,893 INFO     [tpe.py:865] TPE using 85/85 trials with best loss 10.000000\n",
      "01-04-2019:17:57:29,105 INFO     [tpe.py:837] tpe_transform took 0.000923 seconds\n",
      "01-04-2019:17:57:29,105 INFO     [tpe.py:865] TPE using 86/86 trials with best loss 10.000000\n",
      "01-04-2019:17:57:46,618 INFO     [tpe.py:837] tpe_transform took 0.001043 seconds\n",
      "01-04-2019:17:57:46,618 INFO     [tpe.py:865] TPE using 87/87 trials with best loss 10.000000\n",
      "01-04-2019:17:58:04,294 INFO     [tpe.py:837] tpe_transform took 0.000930 seconds\n",
      "01-04-2019:17:58:04,295 INFO     [tpe.py:865] TPE using 88/88 trials with best loss 10.000000\n",
      "01-04-2019:17:58:21,883 INFO     [tpe.py:837] tpe_transform took 0.000914 seconds\n",
      "01-04-2019:17:58:21,883 INFO     [tpe.py:865] TPE using 89/89 trials with best loss 10.000000\n",
      "01-04-2019:17:58:39,532 INFO     [tpe.py:837] tpe_transform took 0.001204 seconds\n",
      "01-04-2019:17:58:39,533 INFO     [tpe.py:865] TPE using 90/90 trials with best loss 10.000000\n",
      "01-04-2019:17:58:57,46 INFO     [tpe.py:837] tpe_transform took 0.001067 seconds\n",
      "01-04-2019:17:58:57,46 INFO     [tpe.py:865] TPE using 91/91 trials with best loss 10.000000\n",
      "01-04-2019:17:59:15,420 INFO     [tpe.py:837] tpe_transform took 0.000901 seconds\n",
      "01-04-2019:17:59:15,421 INFO     [tpe.py:865] TPE using 92/92 trials with best loss 10.000000\n",
      "01-04-2019:17:59:33,532 INFO     [tpe.py:837] tpe_transform took 0.000931 seconds\n",
      "01-04-2019:17:59:33,532 INFO     [tpe.py:865] TPE using 93/93 trials with best loss 10.000000\n"
     ]
    },
    {
     "name": "stderr",
     "output_type": "stream",
     "text": [
      "01-04-2019:17:59:50,140 INFO     [tpe.py:837] tpe_transform took 0.000928 seconds\n",
      "01-04-2019:17:59:50,141 INFO     [tpe.py:865] TPE using 94/94 trials with best loss 10.000000\n"
     ]
    }
   ],
   "source": [
    "trials = Trials()\n",
    "best = fmin(fn=lambda x: objective(model, x, res.fun, data_folder),\n",
    "            space=space,\n",
    "            algo=tpe.suggest,\n",
    "            max_evals=100,\n",
    "            trials=trials)"
   ]
  }
 ],
 "metadata": {
  "kernelspec": {
   "display_name": "Python 3",
   "language": "python",
   "name": "python3"
  },
  "language_info": {
   "codemirror_mode": {
    "name": "ipython",
    "version": 3
   },
   "file_extension": ".py",
   "mimetype": "text/x-python",
   "name": "python",
   "nbconvert_exporter": "python",
   "pygments_lexer": "ipython3",
   "version": "3.6.3"
  }
 },
 "nbformat": 4,
 "nbformat_minor": 2
}
